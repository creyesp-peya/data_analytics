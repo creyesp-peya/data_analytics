{
 "cells": [
  {
   "cell_type": "code",
   "execution_count": null,
   "id": "corporate-resistance",
   "metadata": {},
   "outputs": [],
   "source": [
    "from data_analytics.google import get_credentials"
   ]
  },
  {
   "cell_type": "code",
   "execution_count": null,
   "metadata": {},
   "outputs": [],
   "source": [
    "credentials = get_credentials()"
   ]
  }
 ],
 "metadata": {
  "environment": {
   "name": "r-cpu.3-6.mnightly-2021-01-20-debian-10-test",
   "type": "gcloud",
   "uri": "gcr.io/deeplearning-platform-release/r-cpu.3-6:mnightly-2021-01-20-debian-10-test"
  },
  "kernelspec": {
   "display_name": "Python [conda env:env_estefano]",
   "language": "python",
   "name": "conda-env-env_estefano-py"
  },
  "language_info": {
   "codemirror_mode": {
    "name": "ipython",
    "version": 3
   },
   "file_extension": ".py",
   "mimetype": "text/x-python",
   "name": "python",
   "nbconvert_exporter": "python",
   "pygments_lexer": "ipython3",
   "version": "3.7.9"
  }
 },
 "nbformat": 4,
 "nbformat_minor": 5
}