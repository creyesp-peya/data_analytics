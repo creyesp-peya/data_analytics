{
 "cells": [
  {
   "cell_type": "code",
   "execution_count": null,
   "metadata": {},
   "outputs": [],
   "source": [
    "from crontab import CronTab"
   ]
  },
  {
   "cell_type": "code",
   "execution_count": null,
   "metadata": {},
   "outputs": [],
   "source": [
    "cron = CronTab()\n",
    "cron.remove_all()\n",
    "\n",
    "command1=(\n",
    "    '/opt/conda/bin/papermill '\n",
    "    '/home/jupyter/base_env.ipynb '\n",
    "    '/home/jupyter/base_env_$(date +%Y-%m-%dT%H:%M:%S).ipynb'\n",
    ")\n",
    "job1 = cron.new(command1)\n",
    "job1.minute.every(1)\n",
    "#job1.env['VARIABLE_NAME'] = \"hello world\"\n",
    "job1.enable(False)\n",
    "\n",
    "command2=(\n",
    "    '/opt/conda/bin/python '\n",
    "    '/home/jupyter/example_papermill.py > /home/jupyter/cronlog_example.txt 2>&1'\n",
    ")\n",
    "job2 = cron.new(command2)\n",
    "job2.minute.every(1)\n",
    "job2.enable(False)\n",
    "\n",
    "cron.write()"
   ]
  },
  {
   "cell_type": "code",
   "execution_count": null,
   "metadata": {},
   "outputs": [],
   "source": [
    "for k in cron:\n",
    "    print(k)"
   ]
  }
 ],
 "metadata": {
  "environment": {
   "name": "r-cpu.3-6.mnightly-2021-01-20-debian-10-test",
   "type": "gcloud",
   "uri": "gcr.io/deeplearning-platform-release/r-cpu.3-6:mnightly-2021-01-20-debian-10-test"
  },
  "kernelspec": {
   "display_name": "Python 3",
   "language": "python",
   "name": "python3"
  },
  "language_info": {
   "codemirror_mode": {
    "name": "ipython",
    "version": 3
   },
   "file_extension": ".py",
   "mimetype": "text/x-python",
   "name": "python",
   "nbconvert_exporter": "python",
   "pygments_lexer": "ipython3",
   "version": "3.7.9"
  }
 },
 "nbformat": 4,
 "nbformat_minor": 4
}